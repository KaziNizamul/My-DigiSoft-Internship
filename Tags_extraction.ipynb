{
 "cells": [
  {
   "cell_type": "code",
   "execution_count": 26,
   "metadata": {},
   "outputs": [],
   "source": [
    "#Reading Tags : \n",
    "import pydicom\n",
    "ds = pydicom.read_file(\"ttfm.dcm\")\n",
    "bs = pydicom.read_file(\"bmode.dcm\")\n",
    "\n",
    "#Saving Tags :\n",
    "dtags = list(ds.keys())\n",
    "btags = list(bs.keys())"
   ]
  },
  {
   "cell_type": "code",
   "execution_count": 4,
   "metadata": {},
   "outputs": [
    {
     "name": "stdout",
     "output_type": "stream",
     "text": [
      "('0012', '0012')\n",
      "('0013', '0013')\n"
     ]
    }
   ],
   "source": [
    "# import re\n",
    "# ds = \"(0012,0012)\\n(0013,0013)\" \n",
    "# dicomTagExp = re.compile(r\"\\(([0-9a-fA-F]{4})\\W*,\\W*([0-9a-fA-F]{4})\\)\")\n",
    "# for match in dicomTagExp.finditer(ds):\n",
    "#   dTag = match.groups()\n",
    "#   print(dTag)\n"
   ]
  },
  {
   "cell_type": "code",
   "execution_count": null,
   "metadata": {},
   "outputs": [],
   "source": []
  },
  {
   "cell_type": "code",
   "execution_count": 28,
   "metadata": {},
   "outputs": [],
   "source": [
    "#Converting To String\n",
    "str1 = ''.join(str(e) for e in dtags)\n",
    "\n",
    "\n",
    "#Writing It Into File\n",
    "f = open(\"SAVE_TAGS1.txt\", \"w\")\n",
    "f.write(str1)\n",
    "\n",
    "f.close()\n"
   ]
  },
  {
   "cell_type": "code",
   "execution_count": 29,
   "metadata": {},
   "outputs": [],
   "source": [
    "#Converting To String\n",
    "str2 = ''.join(str(e) for e in btags)\n",
    "\n",
    "\n",
    "\n",
    "#Writing It Into File\n",
    "f = open(\"SAVE_TAGS2.txt\", \"w\")\n",
    "f.write(str2)\n",
    "\n",
    "f.close()"
   ]
  },
  {
   "cell_type": "code",
   "execution_count": null,
   "metadata": {},
   "outputs": [],
   "source": []
  }
 ],
 "metadata": {
  "kernelspec": {
   "display_name": "Python 3",
   "language": "python",
   "name": "python3"
  },
  "language_info": {
   "codemirror_mode": {
    "name": "ipython",
    "version": 3
   },
   "file_extension": ".py",
   "mimetype": "text/x-python",
   "name": "python",
   "nbconvert_exporter": "python",
   "pygments_lexer": "ipython3",
   "version": "3.6.5"
  }
 },
 "nbformat": 4,
 "nbformat_minor": 2
}
